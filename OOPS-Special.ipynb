{
 "cells": [
  {
   "cell_type": "code",
   "execution_count": 1,
   "id": "5ab47a4f",
   "metadata": {},
   "outputs": [],
   "source": [
    "from IPython.core.interactiveshell import InteractiveShell\n",
    "InteractiveShell.ast_node_interactivity = 'all'"
   ]
  },
  {
   "cell_type": "markdown",
   "id": "830f086a",
   "metadata": {},
   "source": [
    "+ Python is a multi-paradigm programming language.\n",
    "    1. Procedure-oriented programming (POP) - main emphasis is on functions\n",
    "    2. Object-oriented programming (OOP) - stress on objects\n",
    "    \n",
    "+ One of the popular approaches to solve a programming problem is by creating objects. \n",
    "+ This is known as OOP.\n",
    "+ The concept of OOP in Python focuses on creating reusable code. \n",
    "+ This concept is also known as DRY (Don't Repeat Yourself).\n",
    "+ Object is simply a collection of data (variables) and methods (functions) that act on those data.\n",
    "+ Class is a blueprint for the object.\n",
    "+ An object is also called an instance of a class.\n",
    "+ The process of creating this object is called instantiation.\n",
    "+ Object-oriented programming (OOP) involves the use of objects to create programs.\n",
    "+ An object represents an entity in the real world that can be distinctly identified.\n",
    "+ Python automatically assigns each object a unique id for identifying the object at runtime.\n",
    "+ An object’s state (also known as its properties or attributes) is represented by variables, called data fields.\n",
    "+ Python uses methods to define an object’s behavior (also known as its actions).\n",
    "+ A Python class uses variables to store data fields and defines methods to perform actions.\n",
    "+ A class is a contract—also sometimes called a template or blueprint—that defines what an object’s data fields and methods will be.\n",
    "+ The self parameter is a reference to the current instance of the class, and is used to access variables,methods that belongs to the class.\n",
    "+ It does not have to be named self , you can call it whatever you like, but it has to be the first parameter of any function in the class.\n",
    "+ Whenever an object calls its method, the object itself is passed as the first argument. So, c1.getArea() translates into Circle.getArea(c1).\n",
    "+ the first argument of the function in class must be the object itself. This is conventionally called self. It can be named otherwise but we highly recommend to follow the convention.\n",
    "+ All classes have a function called init(), which is always executed when the class is being initiated.\n",
    "+ Use the init() function to assign values to object properties, or other operations that are necessary to do when the object is being created.\n",
    "+ Class functions that begins with double underscore (__) are called special functions as they have special meaning.\n",
    "+ Of one particular interest is the __init__() function. This special function gets called whenever a new object of that class is instantiated. This type of function is also called constructors in OOP. We normally use it to initialize all the variables.\n",
    "\n",
    "+ **Types of constructors** :\n",
    "\n",
    "    1. default constructor: The default constructor is a simple constructor which doesn’t accept any arguments. Its definition has only one argument which is a reference to the instance being constructed.\n",
    "\n",
    "    2. parameterized constructor: constructor with parameters is known as parameterized constructor. The parameterized constructor takes its first argument as a reference to the instance being constructed known as self and the rest of the arguments are provided by the programmer.\n",
    "+ Any attribute of an object can be deleted anytime, using the del statement.\n",
    "+ When we do cobj = Complex(1,3), a new instance object is created in memory and the name cobj binds with it.\n",
    "+ On the command del cobj, this binding is removed and the name cobj is deleted from the corresponding namespace. The object however continues to exist in memory and if no other name is bound to it, it is later automatically destroyed.\n",
    "+ This automatic destruction of unreferenced objects in Python is also called garbage collection.\n",
    "\n",
    "**Types of variables and methods**\n",
    "\n",
    "1. In Python, a static variable is a variable that is shared among all instances of a class, rather than being unique to each instance. It is also sometimes referred to as a class variable, because it belongs to the class itself rather than any particular instance of the class.\n",
    "+ Static variables are defined inside the class definition, but outside of any method definitions. They are typically initialized with a value, just like an instance variable, but they can be accessed and modified through the class itself, rather than through an instance.\n",
    "\n",
    "2. Instance Varibales are those attributes that are not shared by objects. Every object has its own copy of the instance attribute i.e. for every object, instance attribute is different.\n",
    "+ Within the class by using self and object reference.\n",
    "\n",
    "+ static/class var can be accessed using objects as well as class names but instance variables can be accessed using only objects.\n",
    "\n",
    "**Instance, Class and Static Methods**\n",
    "1. Instance method are methods which require an object of its class to be created before it can be called. \n",
    "+ To invoke a instance method, we have to create an Object of the class in which the method is defined.\n",
    "2. A class method is a method that is bound to the class and not the object of the class. \n",
    "+ They have the access to the state of the class as it takes a class parameter that points to the class and not the object instance. \n",
    "+ It can modify a class state that would apply across all the instances of the class.\n",
    "3. A static method is a method that belongs to a class rather than an instance of a class. \n",
    "+ This means you can call a static method without creating an object of the class. \n",
    "+ Static methods are sometimes called class methods.\n",
    "\n",
    "**Instance methods need a class instance and can access the instance through self . Class methods don't need a class instance. They can't access the instance ( self ) but they have access to the class itself via cls . Static methods don't have access to cls or self .**\n",
    "\n",
    "**INHERITENCE**\n",
    "\n",
    "+ Aquiring all the properties and bahaviuors of one class to another class.\n",
    "+ It is a mechanism that allows you to create a hierarchy of classes that share a set of properties and methods by deriving a class from another class. \n",
    "+ Inheritance is the capability of one class to derive or inherit the properties from another class.\n",
    "\n",
    "*TYPES :*\n",
    "1. Single level\n",
    "2. Multi level\n",
    "3. Multiple\n",
    "4. Hybrid\n",
    "5. Hierarchical\n",
    "\n",
    "**Super class**\n",
    "\n",
    "+ In Python, the super() function is used to refer to the parent class or superclass. It allows you to call methods defined in the superclass from the subclass, enabling you to extend and customize the functionality inherited from the parent class.\n",
    "\n",
    "**POLYMORPHISM**\n",
    "\n",
    "- Poly means many\n",
    " - Morpgh - forms\n",
    " - Polymorphism refers to bahaving the same function or operator differently base on situations or one function can have multiple characterstics for example Human can play different character like son, husband, student, teacher and so on\n",
    "*Types - Method overloading and Operator over loading*\n",
    "\n",
    "**Operator Overloading**\n",
    "\n",
    "+ Operator Overloading means giving extended meaning beyond their predefined operational meaning. For example operator + is used to add two integers as well as join two strings and merge two lists. It is achievable because ‘+’ operator is overloaded by int class and str class. You might have noticed that the same built-in operator or function shows different behavior for objects of different classes, this is called Operator Overloading\n",
    "\n",
    "**Method Overloading**\n",
    "\n",
    "+ Method Overloading is an example of Compile time polymorphism. In this, more than one method of the same class shares the same method name having different signatures. Method overloading is used to add more to the behavior of methods and there is no need of more than one class for method overloading.\n",
    "\n",
    "*Note* : Python does not support method overloading. We may overload the methods but can only use the latest defined method.\n",
    "\n",
    "**Method Overriding**\n",
    "\n",
    "+ Method overriding, on the other hand, refers to defining a method in a subclass with the same name as the one in its superclass. The subclass method then overrides the superclass method.\n",
    "\n",
    "**ENCAPSULATION**\n",
    "\n",
    "+ Process of restricting the object to change some data is called Encapsulation\n",
    "+ And It is a process of encapulating data and methods and work on the same data.\n",
    "+ To restict the data, we have to create private variable and methods\n",
    "+ To create private variable we have to use __ (double underscore)\n",
    "+ private variables --- keep a __ before the variable\n",
    "+ we can change the values of private variables outside(by calling an object) it will not give error but when we access the same private variables with other methods in the class, the value will still remains same(the new changes wont be reflected).\n",
    "\n",
    "**ABSTRACTION**\n",
    "\n",
    "- Hiding complex information and show only neccesary information is abstraction\n",
    "- For example, TV remote or send sms to friends\n",
    "\n",
    "**ENCAPSULATION** - It describes the idea of wrapping data and the methods that work on data within one unit. \n",
    "\n",
    "**ABSTRACTION** - It is defined as a process of handling complexity by hiding unnecessary information from the user.\n",
    "\n",
    "**DATA HIDING** - It is a concept which underlines the hiding of data or information from the user."
   ]
  },
  {
   "cell_type": "code",
   "execution_count": 2,
   "id": "078b64b4",
   "metadata": {},
   "outputs": [
    {
     "name": "stdout",
     "output_type": "stream",
     "text": [
      "392.5\n"
     ]
    }
   ],
   "source": [
    "#CLASS AND OBJECTS\n",
    "class circle():\n",
    "    def set_radius(self,r):\n",
    "        self.r = r\n",
    "    def area(self):\n",
    "        print (3.14*(self.r**3))\n",
    "c = circle()\n",
    "c.set_radius(5)\n",
    "c.area()"
   ]
  },
  {
   "cell_type": "code",
   "execution_count": 3,
   "id": "05d644ce",
   "metadata": {},
   "outputs": [
    {
     "name": "stdout",
     "output_type": "stream",
     "text": [
      "392.5\n"
     ]
    }
   ],
   "source": [
    "#CONSTRUCTOR\n",
    "class circle():\n",
    "    def __init__(self,r):\n",
    "        self.r = r\n",
    "    def area(self):\n",
    "        print (3.14*(self.r**3))\n",
    "c = circle(5)\n",
    "c.area()"
   ]
  },
  {
   "cell_type": "code",
   "execution_count": 4,
   "id": "4ebcab75",
   "metadata": {},
   "outputs": [
    {
     "data": {
      "text/plain": [
       "<__main__.circle at 0x2c5df4f8340>"
      ]
     },
     "execution_count": 4,
     "metadata": {},
     "output_type": "execute_result"
    },
    {
     "name": "stdout",
     "output_type": "stream",
     "text": [
      "area = 392.5\n"
     ]
    }
   ],
   "source": [
    "#STR RETURN\n",
    "class circle():\n",
    "    def __init__(self,r):\n",
    "        self.r = r\n",
    "    def __str__(self):\n",
    "        return f'area = {3.14*(self.r**3)}'\n",
    "c = circle(5)\n",
    "c\n",
    "print (c)"
   ]
  },
  {
   "cell_type": "code",
   "execution_count": 5,
   "id": "a2a6f7f8",
   "metadata": {},
   "outputs": [
    {
     "data": {
      "text/plain": [
       "<__main__.circle at 0x2c5df4f9e70>"
      ]
     },
     "execution_count": 5,
     "metadata": {},
     "output_type": "execute_result"
    },
    {
     "name": "stdout",
     "output_type": "stream",
     "text": [
      "area = 392.5\n"
     ]
    }
   ],
   "source": [
    "#DEFAULT CONSTRUCTOR\n",
    "class circle():\n",
    "    def __init__(self):\n",
    "        self.r = 5\n",
    "    def __str__(self):\n",
    "        return f'area = {3.14*(self.r**3)}'\n",
    "c = circle()\n",
    "c\n",
    "print (c)"
   ]
  },
  {
   "cell_type": "code",
   "execution_count": 6,
   "id": "c47dc2ae",
   "metadata": {},
   "outputs": [
    {
     "data": {
      "text/plain": [
       "<__main__.circle at 0x2c5df4fb3a0>"
      ]
     },
     "execution_count": 6,
     "metadata": {},
     "output_type": "execute_result"
    },
    {
     "name": "stdout",
     "output_type": "stream",
     "text": [
      "area = 392.5\n"
     ]
    },
    {
     "data": {
      "text/plain": [
       "5"
      ]
     },
     "execution_count": 6,
     "metadata": {},
     "output_type": "execute_result"
    }
   ],
   "source": [
    "#PARAMATERIZED CONSTRUCTOR\n",
    "class circle():\n",
    "    def __init__(self,r):\n",
    "        self.r = r\n",
    "    def __str__(self):\n",
    "        return f'area = {3.14*(self.r**3)}'\n",
    "c = circle(5)\n",
    "c\n",
    "print (c)\n",
    "c.r"
   ]
  },
  {
   "cell_type": "code",
   "execution_count": 7,
   "id": "69c4d287",
   "metadata": {},
   "outputs": [
    {
     "data": {
      "text/plain": [
       "<__main__.circle at 0x2c5df4fa680>"
      ]
     },
     "execution_count": 7,
     "metadata": {},
     "output_type": "execute_result"
    },
    {
     "name": "stdout",
     "output_type": "stream",
     "text": [
      "area = 392.5\n",
      "area = 3140.0\n"
     ]
    }
   ],
   "source": [
    "#MODIFYING\n",
    "class circle():\n",
    "    def __init__(self,r):\n",
    "        self.r = r\n",
    "    def __str__(self):\n",
    "        return f'area = {3.14*(self.r**3)}'\n",
    "c = circle(5)\n",
    "c\n",
    "print (c)\n",
    "c.r = 10\n",
    "print (c)"
   ]
  },
  {
   "cell_type": "code",
   "execution_count": 8,
   "id": "845a6569",
   "metadata": {},
   "outputs": [
    {
     "data": {
      "text/plain": [
       "<__main__.circle at 0x2c5df4fbe50>"
      ]
     },
     "execution_count": 8,
     "metadata": {},
     "output_type": "execute_result"
    },
    {
     "name": "stdout",
     "output_type": "stream",
     "text": [
      "area = 392.5\n"
     ]
    },
    {
     "ename": "NameError",
     "evalue": "name 'c' is not defined",
     "output_type": "error",
     "traceback": [
      "\u001b[1;31m---------------------------------------------------------------------------\u001b[0m",
      "\u001b[1;31mNameError\u001b[0m                                 Traceback (most recent call last)",
      "Cell \u001b[1;32mIn[8], line 11\u001b[0m\n\u001b[0;32m      9\u001b[0m \u001b[38;5;28mprint\u001b[39m (c)\n\u001b[0;32m     10\u001b[0m \u001b[38;5;28;01mdel\u001b[39;00m c\n\u001b[1;32m---> 11\u001b[0m \u001b[38;5;28mprint\u001b[39m (\u001b[43mc\u001b[49m)\n",
      "\u001b[1;31mNameError\u001b[0m: name 'c' is not defined"
     ]
    }
   ],
   "source": [
    "#DELITING\n",
    "class circle():\n",
    "    def __init__(self,r):\n",
    "        self.r = r\n",
    "    def __str__(self):\n",
    "        return f'area = {3.14*(self.r**3)}'\n",
    "c = circle(5)\n",
    "c\n",
    "print (c)\n",
    "del c\n",
    "print (c)"
   ]
  },
  {
   "cell_type": "code",
   "execution_count": 9,
   "id": "79526103",
   "metadata": {},
   "outputs": [
    {
     "data": {
      "text/plain": [
       "<__main__.rectangle_1 at 0x2c5e0b0b4f0>"
      ]
     },
     "execution_count": 9,
     "metadata": {},
     "output_type": "execute_result"
    },
    {
     "name": "stdout",
     "output_type": "stream",
     "text": [
      "area = 50\n"
     ]
    }
   ],
   "source": [
    "#STATIC & INSTANCE VARIABLES\n",
    "class rectangle_1():\n",
    "    l = 10\n",
    "    def __init__(self,b):\n",
    "        self.b = b\n",
    "    def __str__(self):\n",
    "        return f'area = {rectangle_1.l*self.b}'\n",
    "r = rectangle_1 (5)\n",
    "r\n",
    "print (r)"
   ]
  },
  {
   "cell_type": "code",
   "execution_count": 10,
   "id": "c454cc48",
   "metadata": {},
   "outputs": [
    {
     "data": {
      "text/plain": [
       "<__main__.rectangle_2 at 0x2c5df40e6e0>"
      ]
     },
     "execution_count": 10,
     "metadata": {},
     "output_type": "execute_result"
    },
    {
     "name": "stdout",
     "output_type": "stream",
     "text": [
      "area = 50\n",
      "area = 100\n",
      "area = 200\n"
     ]
    }
   ],
   "source": [
    "#STATIC & INSTANCE VARIABLES\n",
    "class rectangle_2():\n",
    "    l = 10\n",
    "    def __init__(self,b):\n",
    "        self.b = b\n",
    "    def __str__(self):\n",
    "        return f'area = {rectangle_2.l*self.b}'\n",
    "r = rectangle_2 (5)\n",
    "r\n",
    "print (r)\n",
    "rectangle_2.l = 20\n",
    "print (r)\n",
    "s = rectangle_2 (10)\n",
    "print (s)"
   ]
  },
  {
   "cell_type": "code",
   "execution_count": 11,
   "id": "35aab7b7",
   "metadata": {},
   "outputs": [
    {
     "name": "stdout",
     "output_type": "stream",
     "text": [
      "area = 50\n",
      "20\n",
      "10\n",
      "area = 100\n"
     ]
    }
   ],
   "source": [
    "#STATIC & INSTANCE VARIABLES\n",
    "class rectangle_2():\n",
    "    l = 10\n",
    "    def __init__(self,b):\n",
    "        self.b = b\n",
    "    def __str__(self):\n",
    "        return f'area = {rectangle_2.l*self.b}'\n",
    "r = rectangle_2 (5)\n",
    "print (r)\n",
    "r.l = 20\n",
    "print (r.l)\n",
    "print (rectangle_2.l)\n",
    "s = rectangle_2 (10)\n",
    "print (s)"
   ]
  },
  {
   "cell_type": "code",
   "execution_count": 12,
   "id": "617041da",
   "metadata": {},
   "outputs": [
    {
     "name": "stdout",
     "output_type": "stream",
     "text": [
      "in init functn\n",
      "26\n",
      "in init functn\n",
      "26\n",
      "26\n"
     ]
    }
   ],
   "source": [
    "class Employee:\n",
    "    age = 25\n",
    "    def __init__(self):\n",
    "        print(\"in init functn\")\n",
    "\n",
    "Employee.age=Employee.age+1 \n",
    "e1 = Employee() \n",
    "print(e1.age) \n",
    "e2 = Employee() \n",
    "print(e2.age) \n",
    "print(Employee.age) "
   ]
  },
  {
   "cell_type": "code",
   "execution_count": 13,
   "id": "16b752e8",
   "metadata": {},
   "outputs": [
    {
     "name": "stdout",
     "output_type": "stream",
     "text": [
      "in initial class\n",
      "26\n",
      "in initial class\n",
      "25\n",
      "25\n"
     ]
    }
   ],
   "source": [
    "class Employee_2:\n",
    "    age = 25\n",
    " \n",
    "    def __init__(self):\n",
    "        print(\"in initial class\")\n",
    " \n",
    "e1 = Employee_2()\n",
    "e1.age=e1.age+1\n",
    "print(e1.age)\n",
    " \n",
    "e2 = Employee_2()\n",
    "print(e2.age)\n",
    " \n",
    "print(Employee_2.age)"
   ]
  },
  {
   "cell_type": "code",
   "execution_count": 14,
   "id": "83bce0fe",
   "metadata": {},
   "outputs": [
    {
     "name": "stdout",
     "output_type": "stream",
     "text": [
      "in initial class\n",
      "26\n",
      "in initial class\n",
      "27\n",
      "27\n"
     ]
    }
   ],
   "source": [
    "class Employee_3:\n",
    "    age = 25\n",
    " \n",
    "    def __init__(self):\n",
    "        Employee_3.age=Employee_3.age+1\n",
    "        print(\"in initial class\")\n",
    " \n",
    "e1 = Employee_3()\n",
    "print(e1.age)\n",
    " \n",
    "e2 = Employee_3()\n",
    "print(e2.age)\n",
    " \n",
    "print(Employee_3.age)"
   ]
  },
  {
   "cell_type": "code",
   "execution_count": 15,
   "id": "7ad3e9a8",
   "metadata": {},
   "outputs": [
    {
     "name": "stdout",
     "output_type": "stream",
     "text": [
      "in initial class\n",
      "27\n",
      "in initial class\n",
      "27\n",
      "in initial class\n",
      "28\n"
     ]
    }
   ],
   "source": [
    "class Employee_4:\n",
    "    age = 25\n",
    " \n",
    "    def __init__(self):\n",
    "        Employee_4.age=Employee_4.age+1\n",
    "        print(\"in initial class\")\n",
    " \n",
    "e1 = Employee_4()\n",
    "e1.age=e1.age+1\n",
    "print(e1.age)\n",
    "\n",
    "e2 = Employee_4()\n",
    "print(e2.age)\n",
    "\n",
    "e3 = Employee_4()\n",
    "print(e3.age)"
   ]
  },
  {
   "cell_type": "code",
   "execution_count": 16,
   "id": "75f028f6",
   "metadata": {},
   "outputs": [
    {
     "name": "stdout",
     "output_type": "stream",
     "text": [
      "27\n",
      "27\n",
      "28\n",
      "28\n"
     ]
    }
   ],
   "source": [
    "class Employee_5:\n",
    "    age = 25\n",
    " \n",
    "    def __init__(self):\n",
    "        Employee_5.age=Employee_5.age+1\n",
    "        self.age=Employee_5.age\n",
    " \n",
    "e1 = Employee_5()\n",
    "e1.age=e1.age+1\n",
    "print(e1.age)\n",
    "\n",
    "e2 = Employee_5()\n",
    "print(e2.age)\n",
    "\n",
    "e3 = Employee_5()\n",
    "print(e3.age)\n",
    "\n",
    "print(Employee_5.age)"
   ]
  },
  {
   "cell_type": "code",
   "execution_count": 17,
   "id": "69694967",
   "metadata": {},
   "outputs": [
    {
     "name": "stdout",
     "output_type": "stream",
     "text": [
      "in initial class\n",
      "27\n",
      "in initial class\n",
      "26\n",
      "in initial class\n",
      "26\n",
      "25\n"
     ]
    }
   ],
   "source": [
    "class Employee_6:\n",
    "    age = 25\n",
    " \n",
    "    def __init__(self):\n",
    "        self.age=self.age+1\n",
    "        print(\"in initial class\")\n",
    " \n",
    "e1 = Employee_6()\n",
    "e1.age=e1.age+1\n",
    "print(e1.age)\n",
    "\n",
    "e2 = Employee_6()\n",
    "print(e2.age)\n",
    "\n",
    "e3 = Employee_6()\n",
    "print(e3.age)\n",
    "\n",
    "print(Employee_6.age)"
   ]
  },
  {
   "cell_type": "code",
   "execution_count": 18,
   "id": "6c4d9991",
   "metadata": {},
   "outputs": [
    {
     "name": "stdout",
     "output_type": "stream",
     "text": [
      "in initial class\n",
      "27\n",
      "in initial class\n",
      "27\n",
      "in initial class\n",
      "26\n",
      "25\n"
     ]
    }
   ],
   "source": [
    "class Employee_7:\n",
    "    age = 25\n",
    " \n",
    "    def __init__(self):\n",
    "        self.age=self.age+1\n",
    "        print(\"in initial class\")\n",
    " \n",
    "e1 = Employee_7()\n",
    "e1.age=e1.age+1\n",
    "print(e1.age)\n",
    "\n",
    "e2 = Employee_7()\n",
    "e2.age=e2.age+1\n",
    "print(e2.age)\n",
    "\n",
    "e3 = Employee_7()\n",
    "print(e3.age)\n",
    "print(Employee_7.age)"
   ]
  },
  {
   "cell_type": "code",
   "execution_count": 19,
   "id": "0d67ed72",
   "metadata": {},
   "outputs": [
    {
     "name": "stdout",
     "output_type": "stream",
     "text": [
      "Innomatics Labs\n",
      "37.666666666666664\n"
     ]
    },
    {
     "ename": "TypeError",
     "evalue": "Student.avg() missing 1 required positional argument: 'self'",
     "output_type": "error",
     "traceback": [
      "\u001b[1;31m---------------------------------------------------------------------------\u001b[0m",
      "\u001b[1;31mTypeError\u001b[0m                                 Traceback (most recent call last)",
      "Cell \u001b[1;32mIn[19], line 25\u001b[0m\n\u001b[0;32m     22\u001b[0m s2 \u001b[38;5;241m=\u001b[39m Student(\u001b[38;5;241m89\u001b[39m,\u001b[38;5;241m32\u001b[39m,\u001b[38;5;241m12\u001b[39m)\n\u001b[0;32m     24\u001b[0m \u001b[38;5;28mprint\u001b[39m(s1\u001b[38;5;241m.\u001b[39mavg())\n\u001b[1;32m---> 25\u001b[0m \u001b[38;5;28mprint\u001b[39m(\u001b[43mStudent\u001b[49m\u001b[38;5;241;43m.\u001b[39;49m\u001b[43mavg\u001b[49m\u001b[43m(\u001b[49m\u001b[43m)\u001b[49m)\n",
      "\u001b[1;31mTypeError\u001b[0m: Student.avg() missing 1 required positional argument: 'self'"
     ]
    }
   ],
   "source": [
    "#instance method\n",
    "class Student:\n",
    "\n",
    "    school = 'Innomatics Labs'\n",
    "\n",
    "    def __init__(self,m1,m2,m3):\n",
    "        self.m1 = m1\n",
    "        self.m2 = m2\n",
    "        self.m3 = m3\n",
    "\n",
    "    def avg(self): #instance method\n",
    "        print(Student.school)\n",
    "        return (self.m1 + self.m2 + self.m3)/3\n",
    "\n",
    "    def get_m1(self): #getters #mutators\n",
    "        return self.m1\n",
    "    \n",
    "    def set_m1(self,value):\n",
    "         self.m1 = value\n",
    "\n",
    "s1 = Student(34,47,32)\n",
    "s2 = Student(89,32,12)\n",
    "\n",
    "print(s1.avg())\n",
    "print(Student.avg())\n",
    "#only objects were used to access the methods inside the class"
   ]
  },
  {
   "cell_type": "code",
   "execution_count": 20,
   "id": "c4e7785c",
   "metadata": {},
   "outputs": [
    {
     "name": "stdout",
     "output_type": "stream",
     "text": [
      "37.666666666666664\n",
      "Innomatics Labs\n",
      "Innomatics Labs\n"
     ]
    }
   ],
   "source": [
    "#class method\n",
    "class Student:\n",
    "\n",
    "    school = 'Innomatics Labs'\n",
    "\n",
    "    def __init__(self,m1,m2,m3):\n",
    "        self.m1 = m1\n",
    "        self.m2 = m2\n",
    "        self.m3 = m3\n",
    "\n",
    "    def avg(self):\n",
    "        return (self.m1 + self.m2 + self.m3)/3\n",
    "\n",
    "    @classmethod\n",
    "    def getSchool(cls):\n",
    "        return cls.school\n",
    "    \n",
    "s1 = Student(34,47,32)\n",
    "s2 = Student(89,32,12)\n",
    "\n",
    "print(s1.avg())\n",
    "print(Student.getSchool())\n",
    "print(s1.getSchool())\n",
    "#objects and classes both can access the class methods"
   ]
  },
  {
   "cell_type": "code",
   "execution_count": 21,
   "id": "d6a79afb",
   "metadata": {},
   "outputs": [
    {
     "name": "stdout",
     "output_type": "stream",
     "text": [
      "37.666666666666664\n",
      "Innomatics Labs\n",
      "This is Student class...\n",
      "None\n",
      "This is Student class...\n",
      "None\n"
     ]
    }
   ],
   "source": [
    "#static method\n",
    "class Student:\n",
    "\n",
    "    school = 'Innomatics Labs'\n",
    "\n",
    "    def __init__(self,m1,m2,m3):\n",
    "        self.m1 = m1\n",
    "        self.m2 = m2\n",
    "        self.m3 = m3\n",
    "\n",
    "    def avg(self):\n",
    "        return (self.m1 + self.m2 + self.m3)/3\n",
    "\n",
    "    @classmethod\n",
    "    def getSchool(cls):\n",
    "        return cls.school\n",
    "\n",
    "    @staticmethod\n",
    "    def info():\n",
    "        print(\"This is Student class...\")\n",
    "\n",
    "s1 = Student(34,47,32)\n",
    "s2 = Student(89,32,12)\n",
    "\n",
    "print(s1.avg())\n",
    "print(Student.getSchool())\n",
    "print(Student.info())\n",
    "print(s1.info())\n",
    "#objects and classes both can access the static methods"
   ]
  },
  {
   "cell_type": "code",
   "execution_count": 22,
   "id": "0a4c2fa4",
   "metadata": {},
   "outputs": [
    {
     "name": "stdout",
     "output_type": "stream",
     "text": [
      "Parent Class\n",
      "Child Class\n"
     ]
    }
   ],
   "source": [
    "#single inheritence\n",
    "class A:\n",
    "    def Aa(self):\n",
    "        print (\"Parent Class\")\n",
    "class B(A):\n",
    "    def Bb(self):\n",
    "        print (\"Child Class\")\n",
    "a = B()\n",
    "a.Aa()\n",
    "a.Bb()"
   ]
  },
  {
   "cell_type": "code",
   "execution_count": 23,
   "id": "244b8efc",
   "metadata": {},
   "outputs": [
    {
     "name": "stdout",
     "output_type": "stream",
     "text": [
      "Grand Parent Class\n",
      "Parent Class\n",
      "Grand Parent Class\n",
      "Parent Class\n",
      "Child Class\n"
     ]
    }
   ],
   "source": [
    "#multilevel inheritence\n",
    "class A:\n",
    "    def Aa(self):\n",
    "        print (\"Grand Parent Class\")\n",
    "class B(A):\n",
    "    def Bb(self):\n",
    "        print (\"Parent Class\")\n",
    "class C(B):\n",
    "    def Cc(self):\n",
    "        print (\"Child Class\")\n",
    "a = B()\n",
    "a.Aa()\n",
    "a.Bb()\n",
    "b = C()\n",
    "b.Aa()\n",
    "b.Bb()\n",
    "b.Cc()"
   ]
  },
  {
   "cell_type": "code",
   "execution_count": 24,
   "id": "c437dbfb",
   "metadata": {},
   "outputs": [
    {
     "name": "stdout",
     "output_type": "stream",
     "text": [
      "Father Class\n",
      "Mother Class\n",
      "Child Class\n"
     ]
    }
   ],
   "source": [
    "#multiple inheritence\n",
    "class A:\n",
    "    def Aa(self):\n",
    "        print (\"Father Class\")\n",
    "class B:\n",
    "    def Bb(self):\n",
    "        print (\"Mother Class\")\n",
    "class C(A,B):\n",
    "    def Cc(self):\n",
    "        print (\"Child Class\")\n",
    "a = C()\n",
    "a.Aa()\n",
    "a.Bb()\n",
    "a.Cc()"
   ]
  },
  {
   "cell_type": "code",
   "execution_count": 25,
   "id": "126a7129",
   "metadata": {},
   "outputs": [
    {
     "name": "stdout",
     "output_type": "stream",
     "text": [
      "Parent Class\n",
      "Child 1 Class\n",
      "Parent Class\n",
      "Child 2 Class\n"
     ]
    }
   ],
   "source": [
    "#hierarichal inheritence\n",
    "class A:\n",
    "    def Aa(self):\n",
    "        print (\"Parent Class\")\n",
    "class B(A):\n",
    "    def Bb(self):\n",
    "        print (\"Child 1 Class\")\n",
    "class C(A):\n",
    "    def Cc(self):\n",
    "        print (\"Child 2 Class\")\n",
    "a = B()\n",
    "a.Aa()\n",
    "a.Bb()\n",
    "\n",
    "b = C()\n",
    "b.Aa()\n",
    "b.Cc()"
   ]
  },
  {
   "cell_type": "code",
   "execution_count": 26,
   "id": "a5757872",
   "metadata": {},
   "outputs": [
    {
     "name": "stdout",
     "output_type": "stream",
     "text": [
      "Grand Parent Class\n",
      "Parent Class\n",
      "Grand Parent Class\n",
      "Parent Class\n",
      "Friend 1 Class\n",
      "Friend 2 Class\n",
      "Child Class\n"
     ]
    }
   ],
   "source": [
    "#hybrid inheritence\n",
    "class A:\n",
    "    def Aa(self):\n",
    "        print (\"Grand Parent Class\")\n",
    "class B(A):\n",
    "    def Bb(self):\n",
    "        print (\"Parent Class\")\n",
    "class C:\n",
    "    def Cc(self):\n",
    "        print (\"Friend 1 Class\")\n",
    "class D:\n",
    "    def Dd(self):\n",
    "        print (\"Friend 2 Class\")\n",
    "class E(B,C,D):\n",
    "    def Ee(self):\n",
    "        print (\"Child Class\")\n",
    "        \n",
    "a = B()\n",
    "a.Aa()\n",
    "a.Bb()\n",
    "\n",
    "b = E()\n",
    "b.Aa()\n",
    "b.Bb()\n",
    "b.Cc()\n",
    "b.Dd()\n",
    "b.Ee()"
   ]
  },
  {
   "cell_type": "code",
   "execution_count": 27,
   "id": "9a77b86c",
   "metadata": {},
   "outputs": [
    {
     "name": "stdout",
     "output_type": "stream",
     "text": [
      "Pramodha o17 22\n",
      "Pramodha o17 22 gms\n"
     ]
    }
   ],
   "source": [
    "#super class\n",
    "class Student:\n",
    "    def __init__ (self,n,i,a):\n",
    "        self.n = n\n",
    "        self.i = i\n",
    "        self.a = a\n",
    "    def __str__ (self):\n",
    "        return f'{self.n} {self.i} {self.a}'\n",
    "class Student_new(Student):\n",
    "    def __init__ (self,n,i,a,s):\n",
    "        super().__init__(n,i,a)\n",
    "        self.s = s\n",
    "    def __str__(self):\n",
    "        return f'{self.n} {self.i} {self.a} {self.s}'\n",
    "a = Student('Pramodha','o17','22')\n",
    "b = Student_new('Pramodha','o17','22','gms')\n",
    "print (a)\n",
    "print (b)"
   ]
  },
  {
   "cell_type": "code",
   "execution_count": 28,
   "id": "047ca903",
   "metadata": {},
   "outputs": [
    {
     "name": "stdout",
     "output_type": "stream",
     "text": [
      "15\n"
     ]
    }
   ],
   "source": [
    "#operator overloading\n",
    "class A:\n",
    "    def __init__(self,a):\n",
    "        self.a=a\n",
    "    def __add__(self,b):\n",
    "        return self.a+b.a #only a is variable here\n",
    "o1 = A(5)\n",
    "o2 = A(10)\n",
    "print (o1+o2)"
   ]
  },
  {
   "cell_type": "code",
   "execution_count": 29,
   "id": "44df5a21",
   "metadata": {},
   "outputs": [
    {
     "name": "stdout",
     "output_type": "stream",
     "text": [
      "3\n",
      "3\n"
     ]
    }
   ],
   "source": [
    "#method overloading\n",
    "class A:\n",
    "    def M(self,a,b=None):\n",
    "        if b:\n",
    "            print (a+b)\n",
    "        else:\n",
    "            print (a)\n",
    "i = A()\n",
    "i.M(1,2)\n",
    "j = A()\n",
    "j.M(3)"
   ]
  },
  {
   "cell_type": "code",
   "execution_count": 30,
   "id": "4c018b1b",
   "metadata": {},
   "outputs": [
    {
     "name": "stdout",
     "output_type": "stream",
     "text": [
      "A class\n",
      "B Class\n"
     ]
    }
   ],
   "source": [
    "#method overridding\n",
    "class A:\n",
    "    def display (self):\n",
    "        print ('A class')\n",
    "class B(A):\n",
    "    def display (self):\n",
    "        print ('B Class')\n",
    "a = A()\n",
    "a.display()\n",
    "b = B()\n",
    "b.display()"
   ]
  },
  {
   "cell_type": "code",
   "execution_count": 31,
   "id": "9d06428a",
   "metadata": {},
   "outputs": [
    {
     "name": "stdout",
     "output_type": "stream",
     "text": [
      "A class\n",
      "Pramodha\n"
     ]
    },
    {
     "data": {
      "text/plain": [
       "<__main__.A at 0x2c5df40c1c0>"
      ]
     },
     "execution_count": 31,
     "metadata": {},
     "output_type": "execute_result"
    },
    {
     "name": "stdout",
     "output_type": "stream",
     "text": [
      "A class\n",
      "Pramodha\n"
     ]
    },
    {
     "data": {
      "text/plain": [
       "<__main__.A at 0x2c5df40f880>"
      ]
     },
     "execution_count": 31,
     "metadata": {},
     "output_type": "execute_result"
    }
   ],
   "source": [
    "#encapsulation\n",
    "class A:\n",
    "    def __init__ (self):\n",
    "        print ('A class')\n",
    "        self.__name = 'Pramodha'\n",
    "        print (self.__name)\n",
    "A()\n",
    "A.__name = 'Mahesh'\n",
    "A()"
   ]
  },
  {
   "cell_type": "code",
   "execution_count": 32,
   "id": "d0c9c1d8",
   "metadata": {},
   "outputs": [
    {
     "ename": "TypeError",
     "evalue": "Can't instantiate abstract class Polygon with abstract method noofsides",
     "output_type": "error",
     "traceback": [
      "\u001b[1;31m---------------------------------------------------------------------------\u001b[0m",
      "\u001b[1;31mTypeError\u001b[0m                                 Traceback (most recent call last)",
      "Cell \u001b[1;32mIn[32], line 8\u001b[0m\n\u001b[0;32m      5\u001b[0m     \u001b[38;5;129m@abstractmethod\u001b[39m\n\u001b[0;32m      6\u001b[0m     \u001b[38;5;28;01mdef\u001b[39;00m \u001b[38;5;21mnoofsides\u001b[39m(\u001b[38;5;28mself\u001b[39m):\n\u001b[0;32m      7\u001b[0m         \u001b[38;5;28;01mpass\u001b[39;00m\n\u001b[1;32m----> 8\u001b[0m p \u001b[38;5;241m=\u001b[39m \u001b[43mPolygon\u001b[49m\u001b[43m(\u001b[49m\u001b[43m)\u001b[49m\n",
      "\u001b[1;31mTypeError\u001b[0m: Can't instantiate abstract class Polygon with abstract method noofsides"
     ]
    }
   ],
   "source": [
    "#Abstract Base Class\n",
    "from abc import ABC, abstractmethod\n",
    "\n",
    "class Polygon(ABC):\n",
    "    @abstractmethod\n",
    "    def noofsides(self):\n",
    "        pass\n",
    "p = Polygon()"
   ]
  },
  {
   "cell_type": "code",
   "execution_count": 33,
   "id": "fc9141b8",
   "metadata": {},
   "outputs": [
    {
     "name": "stdout",
     "output_type": "stream",
     "text": [
      "parent abstraction\n",
      "child abstraction\n",
      "abstraction\n"
     ]
    }
   ],
   "source": [
    "from abc import ABC, abstractmethod\n",
    "class Abstract(ABC):\n",
    "    def sides(self):\n",
    "        print ('abstraction')\n",
    "class A:\n",
    "    def Aa(self):\n",
    "        print (\"Parent Class\")\n",
    "    def sides(self):\n",
    "        print ('parent abstraction')\n",
    "class B(A):\n",
    "    def Bb(self):\n",
    "        print (\"Child Class\")\n",
    "    def sides(self):\n",
    "        print ('child abstraction')\n",
    "a = A()\n",
    "a.sides()\n",
    "b = B()\n",
    "b.sides()\n",
    "p = Abstract()\n",
    "p.sides()"
   ]
  },
  {
   "cell_type": "code",
   "execution_count": 34,
   "id": "d7b7a3dd",
   "metadata": {},
   "outputs": [
    {
     "name": "stdout",
     "output_type": "stream",
     "text": [
      "parent abstraction\n",
      "child abstraction\n"
     ]
    },
    {
     "ename": "TypeError",
     "evalue": "Can't instantiate abstract class Abstract with abstract method sides",
     "output_type": "error",
     "traceback": [
      "\u001b[1;31m---------------------------------------------------------------------------\u001b[0m",
      "\u001b[1;31mTypeError\u001b[0m                                 Traceback (most recent call last)",
      "Cell \u001b[1;32mIn[34], line 20\u001b[0m\n\u001b[0;32m     18\u001b[0m b \u001b[38;5;241m=\u001b[39m B()\n\u001b[0;32m     19\u001b[0m b\u001b[38;5;241m.\u001b[39msides()\n\u001b[1;32m---> 20\u001b[0m p \u001b[38;5;241m=\u001b[39m \u001b[43mAbstract\u001b[49m\u001b[43m(\u001b[49m\u001b[43m)\u001b[49m\n\u001b[0;32m     21\u001b[0m p\u001b[38;5;241m.\u001b[39msides()\n",
      "\u001b[1;31mTypeError\u001b[0m: Can't instantiate abstract class Abstract with abstract method sides"
     ]
    }
   ],
   "source": [
    "from abc import ABC, abstractmethod\n",
    "class Abstract(ABC):\n",
    "    @abstractmethod\n",
    "    def sides(self):\n",
    "        print ('abstraction')\n",
    "class A:\n",
    "    def Aa(self):\n",
    "        print (\"Parent Class\")\n",
    "    def sides(self):\n",
    "        print ('parent abstraction')\n",
    "class B(A):\n",
    "    def Bb(self):\n",
    "        print (\"Child Class\")\n",
    "    def sides(self):\n",
    "        print ('child abstraction')\n",
    "a = A()\n",
    "a.sides()\n",
    "b = B()\n",
    "b.sides()\n",
    "p = Abstract()\n",
    "p.sides()"
   ]
  },
  {
   "cell_type": "markdown",
   "id": "0f7e719b",
   "metadata": {},
   "source": [
    "**THE END**"
   ]
  }
 ],
 "metadata": {
  "kernelspec": {
   "display_name": "Python 3 (ipykernel)",
   "language": "python",
   "name": "python3"
  },
  "language_info": {
   "codemirror_mode": {
    "name": "ipython",
    "version": 3
   },
   "file_extension": ".py",
   "mimetype": "text/x-python",
   "name": "python",
   "nbconvert_exporter": "python",
   "pygments_lexer": "ipython3",
   "version": "3.10.9"
  }
 },
 "nbformat": 4,
 "nbformat_minor": 5
}
